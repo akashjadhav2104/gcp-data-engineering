{
 "cells": [
  {
   "cell_type": "markdown",
   "metadata": {},
   "source": [
    "## Integration of GCP Cloud SQL Postgres with Python\n",
    "    Let us also see how we can get started with Python based applications using Cloud SQL Postgres.\n",
    "    We need to setup `psycopg2-binary` using `pip`. You can use `pip install psycopg2-binary` to install Postgres Python Connector Library in the virtual environment of the project.\n",
    "    We can then create connection object.\n",
    "    Using connection object, we can create cursor object by passing relevant query to it.\n",
    "    We can process the data using cursor object.\n",
    "    We can perform `SELECT`, `INSERT`, `UPDATE`, `DELETE`, etc using this approach."
   ]
  },
  {
   "cell_type": "code",
   "execution_count": 1,
   "metadata": {},
   "outputs": [
    {
     "name": "stderr",
     "output_type": "stream",
     "text": [
      "'pip' is not recognized as an internal or external command,\n",
      "operable program or batch file.\n"
     ]
    }
   ],
   "source": [
    "!pip install psycopg2-binary"
   ]
  },
  {
   "cell_type": "markdown",
   "metadata": {},
   "source": []
  },
  {
   "cell_type": "markdown",
   "metadata": {},
   "source": []
  }
 ],
 "metadata": {
  "kernelspec": {
   "display_name": "Python 3",
   "language": "python",
   "name": "python3"
  },
  "language_info": {
   "codemirror_mode": {
    "name": "ipython",
    "version": 3
   },
   "file_extension": ".py",
   "mimetype": "text/x-python",
   "name": "python",
   "nbconvert_exporter": "python",
   "pygments_lexer": "ipython3",
   "version": "3.9.9"
  }
 },
 "nbformat": 4,
 "nbformat_minor": 2
}
